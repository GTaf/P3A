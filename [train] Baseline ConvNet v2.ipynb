{
 "cells": [
  {
   "cell_type": "markdown",
   "metadata": {},
   "source": [
    "# [train] Baseline ConvNet v2\n",
    "\n",
    "Un premier réseau convolutionnel dédié à la classification d'imagettes extraites d'images satellites. Entrainement sur un jeu généré à partir des imagettes du défi de l'IC (véhicules et fond) et de deux sous images de la Corse. Les imagettes de tests sont générées à partir de la grille aposée sur la troisième sous image de la Corse. On commence par spécifier les paramètres généraux:"
   ]
  },
  {
   "cell_type": "code",
   "execution_count": 1,
   "metadata": {},
   "outputs": [
    {
     "name": "stdout",
     "output_type": "stream",
     "text": [
      "/mnt/data/CU02_classification\n"
     ]
    }
   ],
   "source": [
    "%cd /mnt/data/CU02_classification/\n",
    "\n",
    "import sys\n",
    "sys.path.insert(0, '/mnt/data/')\n",
    "dir_train = 'data/snapshots_48x48x1/12_48x48x1_2C_PNG_BASE+CORSE+DEC+ROT+FLIP/'\n",
    "dir_val = 'data/snapshots_48x48x1/03_48X48X1_2C_PNG_CORSE_TEST/'\n",
    "model_shortname = 'less_filters_444'\n",
    "current_notebook = 'notebooks/[train] Baseline ConvNet v2.ipynb'\n",
    "logpath = 'models/hypotheses_2/'"
   ]
  },
  {
   "cell_type": "markdown",
   "metadata": {},
   "source": [
    "## 1. Chargement des données / pré-processing\n",
    "\n",
    "Les données d'entrainement sont des images simple bande en nuances de gris de dimensions (48,48), également appelées imagettes ou snapshots. On utilise des générateurs pour alimenter automatiquement les algorithmes à partir de dossiers, sans charger simultanément toutes les données d'entrainement en mémoire.\n",
    "\n",
    "##### Cropping vs Downsampling : \n",
    "\n",
    "- On utilise la classe ImageDataGenerator de keras.preprocesssing.image légèrement adaptée pour éviter le rescaling automatique des imagettes en nuances de gris. On travaille sur les valeurs brutes des imagettes.\n",
    "\n",
    "- Les imagettes qui font plus de (48,48) pixels sont cropées à partir du centre. On préfère cette alternative plutôt que le sous échantillonnage car on souhaite conserver tous les détails des véhicules qui sont déjà très petits. Le classe ImageDataGenerator de Keras a du là aussi eere adaptée pour découper les images plutôt qu'en réduire la résolution.\n",
    "\n",
    "- Les véhicules n'étant pas systématiquement centré dans les imagettes, le découpage risque de supprimer certains véhicules des imagettes du jeu d'entrainement / de validation : vérifier l'impact. En terme de prédiction, le découpage des imagettes semble donner de meilleures performances que le downsampling. Les cartes de chaleurs présentent beaucoup plus de vrais positifs ET de faux positifs: on améliore le rappel mais on dégrade la précision. \n",
    "\n",
    "##### Autres paramètres\n",
    "\n",
    "- Normalisation des imagettes : l'opération semble plutôt introduire de la confusion dans la réflexion, on la neutralise pour le moment. La question de fond est de savoir sur quel périmètre il faut normaliser (epoch, batch, sample).\n",
    "\n",
    "- L'augmentation des données : idem, on neutralise jusqu'à être sur d'avoir un pipeline qui fonctionne jusqu'en prédiction.\n"
   ]
  },
  {
   "cell_type": "code",
   "execution_count": 2,
   "metadata": {},
   "outputs": [
    {
     "name": "stderr",
     "output_type": "stream",
     "text": [
      "Using TensorFlow backend.\n"
     ]
    },
    {
     "name": "stdout",
     "output_type": "stream",
     "text": [
      "Found 119189 images belonging to 2 classes.\n",
      "Found 47817 images belonging to 2 classes.\n"
     ]
    }
   ],
   "source": [
    "from pydrm.roim.keras_image_custom2 import ImageDataGenerator\n",
    "\n",
    "train_datagen = ImageDataGenerator()\n",
    "val_datagen = ImageDataGenerator()\n",
    "\n",
    "train_generator = train_datagen.flow_from_directory(\n",
    "    dir_train,\n",
    "    target_size = (48,48),\n",
    "    batch_size = 32,\n",
    "    class_mode = 'binary',\n",
    "    color_mode = 'grayscale',\n",
    "    # shuffle = False\n",
    ")\n",
    "\n",
    "val_generator = val_datagen.flow_from_directory(\n",
    "    dir_val,\n",
    "    target_size = (48,48),\n",
    "    batch_size = 32,\n",
    "    class_mode = 'binary',\n",
    "    color_mode = 'grayscale',\n",
    "    shuffle = False\n",
    ")"
   ]
  },
  {
   "cell_type": "markdown",
   "metadata": {},
   "source": [
    "\n",
    "##### Classes imbalance\n",
    "\n",
    "Le jeu de test comprend 83% d'images de fond vs 17% d'images de voitures. L'accuracy de base ne doit donc pas tomber en dessous de 83%. Pour corriger ce déséquilibre on associe un poids plus important aux imagettes de véhicules. Attention à ne pas se tromper, on associe à la classe la moins fréquente le poids le plus élevé. On améliore encore sensiblement les résultats en précision / rappel."
   ]
  },
  {
   "cell_type": "code",
   "execution_count": 3,
   "metadata": {},
   "outputs": [
    {
     "name": "stdout",
     "output_type": "stream",
     "text": [
      "{0: 0.44634991484113468, 1: 0.55365008515886538}\n"
     ]
    },
    {
     "data": {
      "text/html": [
       "<div>\n",
       "<style>\n",
       "    .dataframe thead tr:only-child th {\n",
       "        text-align: right;\n",
       "    }\n",
       "\n",
       "    .dataframe thead th {\n",
       "        text-align: left;\n",
       "    }\n",
       "\n",
       "    .dataframe tbody tr th {\n",
       "        vertical-align: top;\n",
       "    }\n",
       "</style>\n",
       "<table border=\"1\" class=\"dataframe\">\n",
       "  <thead>\n",
       "    <tr style=\"text-align: right;\">\n",
       "      <th></th>\n",
       "      <th>snapshots fond</th>\n",
       "      <th>snapshots vehicules</th>\n",
       "      <th>total</th>\n",
       "      <th>freqvoit</th>\n",
       "      <th>freqfond</th>\n",
       "    </tr>\n",
       "  </thead>\n",
       "  <tbody>\n",
       "    <tr>\n",
       "      <th>traning set</th>\n",
       "      <td>65989</td>\n",
       "      <td>53200</td>\n",
       "      <td>119189</td>\n",
       "      <td>0.446350</td>\n",
       "      <td>0.553650</td>\n",
       "    </tr>\n",
       "    <tr>\n",
       "      <th>validation set</th>\n",
       "      <td>46307</td>\n",
       "      <td>1510</td>\n",
       "      <td>47817</td>\n",
       "      <td>0.031579</td>\n",
       "      <td>0.968421</td>\n",
       "    </tr>\n",
       "  </tbody>\n",
       "</table>\n",
       "</div>"
      ],
      "text/plain": [
       "                snapshots fond  snapshots vehicules   total  freqvoit  \\\n",
       "traning set              65989                53200  119189  0.446350   \n",
       "validation set           46307                 1510   47817  0.031579   \n",
       "\n",
       "                freqfond  \n",
       "traning set     0.553650  \n",
       "validation set  0.968421  "
      ]
     },
     "execution_count": 3,
     "metadata": {},
     "output_type": "execute_result"
    },
    {
     "data": {
      "image/png": "[encoded data removed]",
      "text/plain": [
       "<matplotlib.figure.Figure at 0x7f4c9fbe21d0>"
      ]
     },
     "metadata": {},
     "output_type": "display_data"
    }
   ],
   "source": [
    "%matplotlib inline\n",
    "import matplotlib as plt\n",
    "import seaborn\n",
    "import pandas as pd\n",
    "import os\n",
    "\n",
    "df = pd.DataFrame(index = ['traning set', 'validation set'])\n",
    "df['snapshots fond'] = [sum(1 - train_generator.classes), sum(1- val_generator.classes)]\n",
    "df['snapshots vehicules'] = [sum(train_generator.classes), sum(val_generator.classes)]\n",
    "df['total'] = df['snapshots fond'] + df['snapshots vehicules']\n",
    "df['freqvoit'] = df['snapshots vehicules'] / df['total']\n",
    "df['freqfond'] = df['snapshots fond'] / df['total']\n",
    "\n",
    "ax = df[['snapshots fond', 'snapshots vehicules']].plot(\n",
    "    kind = 'barh', \n",
    "    stacked = True, \n",
    "    figsize = (10,10),\n",
    ")\n",
    "\n",
    "ax.title.set_fontsize(15)\n",
    "ax.yaxis.label.set_fontsize(20)\n",
    "\n",
    "vals = df[['freqfond', 'freqvoit']].T.stack().values\n",
    "\n",
    "for p, val in zip(ax.patches, vals):\n",
    "    ax.annotate(str(round(val, 4)), \n",
    "                (p.get_x() + p.get_width() * 0.4, p.get_y() + p.get_height() * 0.4),\n",
    "               )\n",
    "\n",
    "class_weight = {\n",
    "    0 : sum(train_generator.classes) / train_generator.samples,\n",
    "    1 : sum(1 - train_generator.classes) / train_generator.samples\n",
    "}\n",
    "\n",
    "print(class_weight)\n",
    "df"
   ]
  },
  {
   "cell_type": "markdown",
   "metadata": {},
   "source": [
    "## 2. Définition du ConvNet"
   ]
  },
  {
   "cell_type": "code",
   "execution_count": 4,
   "metadata": {
    "collapsed": true
   },
   "outputs": [],
   "source": [
    "from keras.models import Sequential\n",
    "from keras.layers import Conv2D, MaxPooling2D\n",
    "from keras.layers import Activation, Dropout, Flatten, Dense, BatchNormalization\n",
    "\n",
    "def simple_image_clf() :\n",
    "\n",
    "    model = Sequential()\n",
    "\n",
    "    # Convolution layers\n",
    "\n",
    "    model.add(Conv2D(filters = 4, kernel_size = (4, 4), input_shape = (48, 48, 1), strides = (1,1)))\n",
    "    model.add(BatchNormalization())\n",
    "    model.add(Activation('relu'))\n",
    "    model.add(MaxPooling2D(pool_size = (2, 2)))\n",
    "\n",
    "    model.add(Conv2D(filters = 4, kernel_size = (4, 4)))\n",
    "    model.add(BatchNormalization())\n",
    "    model.add(Activation('relu'))\n",
    "    model.add(MaxPooling2D(pool_size = (2, 2)))\n",
    "\n",
    "    model.add(Conv2D(filters = 4, kernel_size = (4, 4)))\n",
    "    model.add(BatchNormalization())\n",
    "    model.add(Activation('relu'))\n",
    "    model.add(MaxPooling2D(pool_size = (2, 2)))\n",
    "\n",
    "    # The binary classifier : 2 dense layers + a sigmoid top\n",
    "\n",
    "    model.add(Flatten())\n",
    "\n",
    "    model.add(Dense(units = 16))\n",
    "    model.add(Activation('relu'))\n",
    "\n",
    "    model.add(Dropout(0.5))\n",
    "\n",
    "    model.add(Dense(units = 16))\n",
    "    model.add(Activation('relu'))\n",
    "\n",
    "    model.add(Dense(units = 1))\n",
    "    model.add(Activation('sigmoid'))\n",
    "\n",
    "    return model\n",
    "\n",
    "model = simple_image_clf()"
   ]
  },
  {
   "cell_type": "markdown",
   "metadata": {},
   "source": [
    "## 3. Entrainement du modèle\n",
    "\n",
    "#### Mesures de performance"
   ]
  },
  {
   "cell_type": "code",
   "execution_count": 5,
   "metadata": {},
   "outputs": [
    {
     "name": "stdout",
     "output_type": "stream",
     "text": [
      "models/hypotheses_2//run-20171012-1434-less_filters_444/\n"
     ]
    }
   ],
   "source": [
    "from datetime import datetime\n",
    "now = datetime.utcnow().strftime(\"%Y%m%d-%H%M\")\n",
    "logdir = \"{}/run-{}-{}/\".format(logpath, now, model_shortname)\n",
    "print(logdir)\n",
    "\n",
    "from sklearn import metrics\n",
    "from pydrm.callbacks import Metrics\n",
    "from keras.callbacks import ModelCheckpoint\n",
    "\n",
    "import imp\n",
    "import pydrm.callbacks as cb\n",
    "cb = imp.reload(cb)\n",
    "\n",
    "checkpt_loss = ModelCheckpoint(filepath = logdir + \"checkpt_loss.h5\", \n",
    "                               monitor = 'loss', \n",
    "                               save_best_only = True)\n",
    "\n",
    "checkpt_val_acc = ModelCheckpoint(filepath = logdir + \"checkpt_val_acc.h5\", \n",
    "                               monitor = 'val_accuracy', \n",
    "                               save_best_only = True)\n",
    "\n",
    "metrics = {\n",
    "    'val_accuracy' : metrics.accuracy_score,\n",
    "    'val_precision' : metrics.precision_score,\n",
    "    'val_recall' : metrics.recall_score,\n",
    "    'val_f1' : metrics.f1_score,\n",
    "    'val_kappa' : metrics.cohen_kappa_score\n",
    "}\n",
    "\n",
    "val_metrics = cb.Metrics(val_generator, threshold = 0.5, log_dir = logdir, metrics = metrics)\n",
    "#val_metrics = cb.Metrics(dir_val, threshold = 0.5, log_dir = logdir, metrics = metrics)"
   ]
  },
  {
   "cell_type": "markdown",
   "metadata": {},
   "source": [
    "#### Fonction de perte et optimizer"
   ]
  },
  {
   "cell_type": "code",
   "execution_count": 6,
   "metadata": {
    "collapsed": true
   },
   "outputs": [],
   "source": [
    "from keras.optimizers import Adadelta\n",
    "from keras.metrics import binary_crossentropy, binary_accuracy\n",
    "\n",
    "model.compile(loss = binary_crossentropy,\n",
    "              optimizer = Adadelta(lr = 1.0, rho = 0.95),\n",
    "              metrics = [binary_accuracy])"
   ]
  },
  {
   "cell_type": "markdown",
   "metadata": {},
   "source": [
    "#### Lancement du run"
   ]
  },
  {
   "cell_type": "code",
   "execution_count": 7,
   "metadata": {},
   "outputs": [
    {
     "name": "stdout",
     "output_type": "stream",
     "text": [
      "Training set info : 3725 steps * 32 images/batch, -11 samples left out\n",
      "Validation set info : 1495 steps * 32 images/batch, -23 samples left out\n",
      "INFO:tensorflow:Summary name conv2d_1/kernel:0 is illegal; using conv2d_1/kernel_0 instead.\n",
      "INFO:tensorflow:Summary name conv2d_1/bias:0 is illegal; using conv2d_1/bias_0 instead.\n",
      "INFO:tensorflow:Summary name batch_normalization_1/gamma:0 is illegal; using batch_normalization_1/gamma_0 instead.\n",
      "INFO:tensorflow:Summary name batch_normalization_1/beta:0 is illegal; using batch_normalization_1/beta_0 instead.\n",
      "INFO:tensorflow:Summary name batch_normalization_1/moving_mean:0 is illegal; using batch_normalization_1/moving_mean_0 instead.\n",
      "INFO:tensorflow:Summary name batch_normalization_1/moving_variance:0 is illegal; using batch_normalization_1/moving_variance_0 instead.\n",
      "INFO:tensorflow:Summary name conv2d_2/kernel:0 is illegal; using conv2d_2/kernel_0 instead.\n",
      "INFO:tensorflow:Summary name conv2d_2/bias:0 is illegal; using conv2d_2/bias_0 instead.\n",
      "INFO:tensorflow:Summary name batch_normalization_2/gamma:0 is illegal; using batch_normalization_2/gamma_0 instead.\n",
      "INFO:tensorflow:Summary name batch_normalization_2/beta:0 is illegal; using batch_normalization_2/beta_0 instead.\n",
      "INFO:tensorflow:Summary name batch_normalization_2/moving_mean:0 is illegal; using batch_normalization_2/moving_mean_0 instead.\n",
      "INFO:tensorflow:Summary name batch_normalization_2/moving_variance:0 is illegal; using batch_normalization_2/moving_variance_0 instead.\n",
      "INFO:tensorflow:Summary name conv2d_3/kernel:0 is illegal; using conv2d_3/kernel_0 instead.\n",
      "INFO:tensorflow:Summary name conv2d_3/bias:0 is illegal; using conv2d_3/bias_0 instead.\n",
      "INFO:tensorflow:Summary name batch_normalization_3/gamma:0 is illegal; using batch_normalization_3/gamma_0 instead.\n",
      "INFO:tensorflow:Summary name batch_normalization_3/beta:0 is illegal; using batch_normalization_3/beta_0 instead.\n",
      "INFO:tensorflow:Summary name batch_normalization_3/moving_mean:0 is illegal; using batch_normalization_3/moving_mean_0 instead.\n",
      "INFO:tensorflow:Summary name batch_normalization_3/moving_variance:0 is illegal; using batch_normalization_3/moving_variance_0 instead.\n",
      "INFO:tensorflow:Summary name dense_1/kernel:0 is illegal; using dense_1/kernel_0 instead.\n",
      "INFO:tensorflow:Summary name dense_1/bias:0 is illegal; using dense_1/bias_0 instead.\n",
      "INFO:tensorflow:Summary name dense_2/kernel:0 is illegal; using dense_2/kernel_0 instead.\n",
      "INFO:tensorflow:Summary name dense_2/bias:0 is illegal; using dense_2/bias_0 instead.\n",
      "INFO:tensorflow:Summary name dense_3/kernel:0 is illegal; using dense_3/kernel_0 instead.\n",
      "INFO:tensorflow:Summary name dense_3/bias:0 is illegal; using dense_3/bias_0 instead.\n",
      "Epoch 1/20\n",
      "1491/1495 [============================>.] - ETA: 0s[[38773  7534]\n",
      " [  147  1363]]\n",
      "{'val_precision': 0.15319770709227828, 'loss': 0.16212437848310915, 'val_recall': 0.90264900662251657, 'binary_accuracy': 0.87485422312611749, 'val_accuracy': 0.83936675241023062, 'val_f1': 0.26193907946574418, 'val_kappa': 0.21981399247963584}\n",
      "3725/3725 [==============================] - 120s - loss: 0.1621 - binary_accuracy: 0.8749   \n",
      "Epoch 2/20\n",
      "1495/1495 [==============================] - 15s    \n",
      "[[43055  3252]\n",
      " [  456  1054]]\n",
      "{'val_precision': 0.24477473293079424, 'loss': 0.1117509297038206, 'val_recall': 0.69801324503311257, 'binary_accuracy': 0.9163093909697877, 'val_accuracy': 0.92245435723696589, 'val_f1': 0.36244841815680884, 'val_kappa': 0.33117413944177465}\n",
      "3725/3725 [==============================] - 121s - loss: 0.1118 - binary_accuracy: 0.9163   \n",
      "Epoch 3/20\n",
      "1491/1495 [============================>.] - ETA: 0s[[43628  2679]\n",
      " [  482  1028]]\n",
      "{'val_precision': 0.27731319125977882, 'loss': 0.09464398293261779, 'val_recall': 0.68079470198675496, 'binary_accuracy': 0.92881054459923662, 'val_accuracy': 0.93389380345902084, 'val_f1': 0.394096223883458, 'val_kappa': 0.36562731368105506}\n",
      "3725/3725 [==============================] - 119s - loss: 0.0947 - binary_accuracy: 0.9288   \n",
      "Epoch 4/20\n",
      "1490/1495 [============================>.] - ETA: 0s[[42405  3902]\n",
      " [  393  1117]]\n",
      "{'val_precision': 0.22255429368400079, 'loss': 0.086509242637844014, 'val_recall': 0.73973509933774839, 'binary_accuracy': 0.93565681396823197, 'val_accuracy': 0.91017838843925802, 'val_f1': 0.34216572216265889, 'val_kappa': 0.30859768282980982}\n",
      "3725/3725 [==============================] - 119s - loss: 0.0865 - binary_accuracy: 0.9357   \n",
      "Epoch 5/20\n",
      "1494/1495 [============================>.] - ETA: 0s[[43753  2554]\n",
      " [  527   983]]\n",
      "{'val_precision': 0.27791914051456035, 'loss': 0.080657673420021642, 'val_recall': 0.65099337748344366, 'binary_accuracy': 0.93846747602597225, 'val_accuracy': 0.93556684861032691, 'val_f1': 0.38953833960768774, 'val_kappa': 0.36126704498164908}\n",
      "3725/3725 [==============================] - 118s - loss: 0.0807 - binary_accuracy: 0.9385   \n",
      "Epoch 6/20\n",
      "1494/1495 [============================>.] - ETA: 0s[[39830  6477]\n",
      " [  217  1293]]\n",
      "{'val_precision': 0.1664092664092664, 'loss': 0.078340563837277763, 'val_recall': 0.85629139072847682, 'binary_accuracy': 0.94077473592361716, 'val_accuracy': 0.86000794696446869, 'val_f1': 0.27866379310344824, 'val_kappa': 0.23838923988015881}\n",
      "3725/3725 [==============================] - 119s - loss: 0.0783 - binary_accuracy: 0.9408   \n",
      "Epoch 7/20\n",
      "1492/1495 [============================>.] - ETA: 0s[[40368  5939]\n",
      " [  300  1210]]\n",
      "{'val_precision': 0.16925444118058469, 'loss': 0.07631374632410684, 'val_recall': 0.80132450331125826, 'binary_accuracy': 0.94231011251038266, 'val_accuracy': 0.86952339126252165, 'val_f1': 0.27947799976902649, 'val_kappa': 0.23984043741733474}\n",
      "3725/3725 [==============================] - 110s - loss: 0.0763 - binary_accuracy: 0.9423   \n",
      "Epoch 8/20\n",
      "1489/1495 [============================>.] - ETA: 0s[[44420  1887]\n",
      " [  668   842]]\n",
      "{'val_precision': 0.30853792598021251, 'loss': 0.074058804668880623, 'val_recall': 0.5576158940397351, 'binary_accuracy': 0.94439084143720986, 'val_accuracy': 0.946567120480164, 'val_f1': 0.39726350554376028, 'val_kappa': 0.37171770247364011}\n",
      "3725/3725 [==============================] - 107s - loss: 0.0741 - binary_accuracy: 0.9444   \n",
      "Epoch 9/20\n",
      "1491/1495 [============================>.] - ETA: 0s[[40733  5574]\n",
      " [  263  1247]]\n",
      "{'val_precision': 0.18281776865562235, 'loss': 0.073857321449045513, 'val_recall': 0.82582781456953647, 'binary_accuracy': 0.94487746352431856, 'val_accuracy': 0.87793044314783442, 'val_f1': 0.29936382187012361, 'val_kappa': 0.26115822622561291}\n",
      "3725/3725 [==============================] - 108s - loss: 0.0739 - binary_accuracy: 0.9449   \n",
      "Epoch 10/20\n",
      "1493/1495 [============================>.] - ETA: 0s[[42848  3459]\n",
      " [  370  1140]]\n",
      "{'val_precision': 0.24787997390737115, 'loss': 0.072074126302588346, 'val_recall': 0.75496688741721851, 'binary_accuracy': 0.9462198692852396, 'val_accuracy': 0.91992387644561557, 'val_f1': 0.37321983958094607, 'val_kappa': 0.34193100921569364}\n",
      "3725/3725 [==============================] - 114s - loss: 0.0721 - binary_accuracy: 0.9462   \n",
      "Epoch 11/20\n",
      "1490/1495 [============================>.] - ETA: 0s[[43416  2891]\n",
      " [  472  1038]]\n",
      "{'val_precision': 0.26418936116060066, 'loss': 0.070147275484482699, 'val_recall': 0.68741721854304638, 'binary_accuracy': 0.94739447432329504, 'val_accuracy': 0.92966936445197312, 'val_f1': 0.38168781025923887, 'val_kappa': 0.35212977173948357}\n",
      "3725/3725 [==============================] - 108s - loss: 0.0701 - binary_accuracy: 0.9474   \n",
      "Epoch 12/20\n",
      "1492/1495 [============================>.] - ETA: 0s[[40390  5917]\n",
      " [  252  1258]]\n",
      "{'val_precision': 0.17533101045296168, 'loss': 0.069690543271788169, 'val_recall': 0.83311258278145695, 'binary_accuracy': 0.94868653986575613, 'val_accuracy': 0.87098730576991445, 'val_f1': 0.28969487622337359, 'val_kappa': 0.25059329931754726}\n",
      "3725/3725 [==============================] - 105s - loss: 0.0697 - binary_accuracy: 0.9487   \n",
      "Epoch 13/20\n",
      "1494/1495 [============================>.] - ETA: 0s[[37765  8542]\n",
      " [  161  1349]]\n",
      "{'val_precision': 0.13638661409362046, 'loss': 0.070429711347655147, 'val_recall': 0.8933774834437086, 'binary_accuracy': 0.94783914622993737, 'val_accuracy': 0.8179936006022962, 'val_f1': 0.23664590825366197, 'val_kappa': 0.19239514188335083}\n"
     ]
    },
    {
     "name": "stdout",
     "output_type": "stream",
     "text": [
      "3725/3725 [==============================] - 103s - loss: 0.0704 - binary_accuracy: 0.9478   \n",
      "Epoch 14/20\n",
      "1490/1495 [============================>.] - ETA: 0s[[40505  5802]\n",
      " [  264  1246]]\n",
      "{'val_precision': 0.17678774120317819, 'loss': 0.069564097609255082, 'val_recall': 0.8251655629139073, 'binary_accuracy': 0.94803211705828228, 'val_accuracy': 0.87314135140222093, 'val_f1': 0.29118953026408034, 'val_kappa': 0.25229878012468565}\n",
      "3725/3725 [==============================] - 104s - loss: 0.0696 - binary_accuracy: 0.9480   \n",
      "Epoch 15/20\n",
      "1490/1495 [============================>.] - ETA: 0s[[28051 18256]\n",
      " [   55  1455]]\n",
      "{'val_precision': 0.073816650601187153, 'loss': 0.069431126183717537, 'val_recall': 0.96357615894039739, 'binary_accuracy': 0.94902214130548623, 'val_accuracy': 0.61706087793044317, 'val_f1': 0.13712831629046698, 'val_kappa': 0.08335476546664633}\n",
      "3725/3725 [==============================] - 103s - loss: 0.0694 - binary_accuracy: 0.9490   \n",
      "Epoch 16/20\n",
      "1491/1495 [============================>.] - ETA: 0s[[38826  7481]\n",
      " [  166  1344]]\n",
      "{'val_precision': 0.15229461756373938, 'loss': 0.069317601720261593, 'val_recall': 0.89006622516556289, 'binary_accuracy': 0.94955910360855444, 'val_accuracy': 0.84007779659953574, 'val_f1': 0.26008708272859216, 'val_kappa': 0.21790907138414939}\n",
      "3725/3725 [==============================] - 105s - loss: 0.0693 - binary_accuracy: 0.9496   \n",
      "Epoch 17/20\n",
      "1492/1495 [============================>.] - ETA: 0s[[44818  1489]\n",
      " [  747   763]]\n",
      "{'val_precision': 0.33880994671403197, 'loss': 0.068282012799744343, 'val_recall': 0.5052980132450331, 'binary_accuracy': 0.94972690433041995, 'val_accuracy': 0.9532383880209967, 'val_f1': 0.40563530037214246, 'val_kappa': 0.38228109441270508}\n",
      "3725/3725 [==============================] - 115s - loss: 0.0683 - binary_accuracy: 0.9497   \n",
      "Epoch 18/20\n",
      "1490/1495 [============================>.] - ETA: 0s[[42815  3492]\n",
      " [  367  1143]]\n",
      "{'val_precision': 0.24660194174757283, 'loss': 0.068679175289075897, 'val_recall': 0.75695364238410601, 'binary_accuracy': 0.94960944382501411, 'val_accuracy': 0.9192964845138758, 'val_f1': 0.37200976403580149, 'val_kappa': 0.34059720995842002}\n",
      "3725/3725 [==============================] - 116s - loss: 0.0687 - binary_accuracy: 0.9496   \n",
      "Epoch 19/20\n",
      "1493/1495 [============================>.] - ETA: 0s[[43396  2911]\n",
      " [  539   971]]\n",
      "{'val_precision': 0.25012879958784134, 'loss': 0.067716935742639428, 'val_recall': 0.64304635761589402, 'binary_accuracy': 0.95068336843215062, 'val_accuracy': 0.92784992784992781, 'val_f1': 0.36016320474777447, 'val_kappa': 0.32968354270522482}\n",
      "3725/3725 [==============================] - 111s - loss: 0.0677 - binary_accuracy: 0.9507   \n",
      "Epoch 20/20\n",
      "1493/1495 [============================>.] - ETA: 0s[[37613  8694]\n",
      " [  160  1350]]\n",
      "{'val_precision': 0.13440860215053763, 'loss': 0.066993390131451683, 'val_recall': 0.89403973509933776, 'binary_accuracy': 0.95096862965642137, 'val_accuracy': 0.81483572787920611, 'val_f1': 0.23368530379089492, 'val_kappa': 0.18916789313694105}\n",
      "3725/3725 [==============================] - 113s - loss: 0.0670 - binary_accuracy: 0.9510   \n"
     ]
    },
    {
     "data": {
      "text/plain": [
       "<keras.callbacks.History at 0x7f4c707e4358>"
      ]
     },
     "execution_count": 7,
     "metadata": {},
     "output_type": "execute_result"
    }
   ],
   "source": [
    "import os, shutil\n",
    "if not os.path.exists(logdir):\n",
    "    os.makedirs(logdir)\n",
    "shutil.copy(current_notebook, logdir)\n",
    "with open(logdir + 'model_architecture.json', 'w') as outfile:\n",
    "    outfile.write(model.to_json())\n",
    "    \n",
    "steps_train = train_generator.samples // train_generator.batch_size + 1\n",
    "\n",
    "print('Training set info : {} steps * {} images/batch, {} samples left out'.format(steps_train,\n",
    "                                                                                 train_generator.batch_size,\n",
    "                                                                                 train_generator.samples - (train_generator.batch_size * steps_train)))\n",
    "\n",
    "\n",
    "print('Validation set info : {} steps * {} images/batch, {} samples left out'.format(val_metrics.steps,\n",
    "                                                                                 val_metrics.val_generator.batch_size,\n",
    "                                                                                 val_metrics.val_generator.samples - (val_metrics.val_generator.batch_size * val_metrics.steps)))\n",
    "\n",
    "model.fit_generator(\n",
    "    train_generator,\n",
    "    steps_per_epoch = steps_train,\n",
    "    epochs = 20,\n",
    "    callbacks = [checkpt_loss, val_metrics, checkpt_val_acc],\n",
    "    class_weight = class_weight\n",
    ")"
   ]
  }
 ],
 "metadata": {
  "kernelspec": {
   "display_name": "Python 3",
   "language": "python",
   "name": "python3"
  },
  "language_info": {
   "codemirror_mode": {
    "name": "ipython",
    "version": 3
   },
   "file_extension": ".py",
   "mimetype": "text/x-python",
   "name": "python",
   "nbconvert_exporter": "python",
   "pygments_lexer": "ipython3",
   "version": "3.5.2"
  }
 },
 "nbformat": 4,
 "nbformat_minor": 2
}
